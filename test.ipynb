{
 "cells": [
  {
   "cell_type": "code",
   "execution_count": null,
   "metadata": {},
   "outputs": [],
   "source": [
    "import numpy as np "
   ]
  },
  {
   "cell_type": "code",
   "execution_count": null,
   "metadata": {},
   "outputs": [],
   "source": [
    "import numpy as np\n",
    "from collections import deque \n",
    "# Simulate your episode starts and weights\n",
    "batch_size, num_envs = 5, 4\n",
    "episode_starts = np.random.randint(0, 2, (batch_size, num_envs))\n",
    "weights = np.random.rand(batch_size, num_envs)\n",
    "\n",
    "\n",
    "flat_starts = episode_starts.ravel()\n",
    "flat_weights = weights.ravel()\n",
    "env_boundaries = np.arange(0, len(flat_starts)+1, batch_size)\n",
    "episode_boundaries = np.cumsum(episode_starts, axis=0)\n",
    "cumulative_starts = np.cumsum(flat_starts)\n",
    "\n",
    "unique_starts, unique_inverses, counts = np.unique(cumulative_starts, return_inverse=True, return_counts=True)\n",
    "\n",
    "desired_length = 2\n",
    "indices_to_sample = np.where(counts >= desired_length)[0]"
   ]
  },
  {
   "cell_type": "code",
   "execution_count": null,
   "metadata": {},
   "outputs": [],
   "source": [
    "\n",
    "k_steps = 3\n",
    "flat_starts = episode_starts.ravel()\n",
    "flat_weights = weights.ravel()\n",
    "flat_starts_indices = np.nonzero(flat_starts)[0]\n",
    "steps_indices = np.arange(len(flat_starts))\n",
    "diff = flat_starts_indices.reshape(-1, 1) - steps_indices\n",
    "sample_mask = ~np.any((diff > 0) & (diff < k_steps), axis=0)\n",
    "print(flat_starts)\n",
    "print(sample_mask)\n",
    "\n",
    "sample_mask[-k_steps+1:] = False \n",
    "indices = np.nonzero(sample_mask)[0]"
   ]
  },
  {
   "cell_type": "code",
   "execution_count": null,
   "metadata": {},
   "outputs": [],
   "source": [
    "import numpy as np\n",
    "from typing import Optional\n",
    "\n",
    "class TestClass:\n",
    "    def __init__(self):\n",
    "        self.buffer_size = 5\n",
    "        self.n_envs = 2\n",
    "        self.n_step_bootstrapping = 2\n",
    "        self.lambda_t = 1\n",
    "        self.gamma_t = 1\n",
    "        self.prioritized_alpha = 0.6\n",
    "        self.rewards = np.array([\n",
    "            [1, 2],\n",
    "            [3, 4],\n",
    "            [5, 6],\n",
    "            [7, 8],\n",
    "            [9, 10]\n",
    "        ])\n",
    "        self.values = np.array([\n",
    "            [11, 12],\n",
    "            [13, 14],\n",
    "            [15, 16],\n",
    "            [17, 18],\n",
    "            [19, 20]\n",
    "        ])\n",
    "        self.episode_starts = np.array([\n",
    "            [1, 1],\n",
    "            [0, 0],\n",
    "            [1, 0],\n",
    "            [0, 0],\n",
    "            [0, 1]\n",
    "        ])\n",
    "        self.Rn = np.zeros((self.buffer_size, self.n_envs))\n",
    "        self.weights = np.zeros((self.buffer_size, self.n_envs))\n",
    "    \n",
    "    def compute_Rn_and_weights(\n",
    "        self, \n",
    "        last_values: np.ndarray, \n",
    "        dones: np.ndarray,\n",
    "        n: Optional[int] = None,\n",
    "        lambda_t: Optional[float] = None,\n",
    "        gamma_t: Optional[float] = None \n",
    "    ) -> None:\n",
    "        n = self.n_step_bootstrapping if n is None else n \n",
    "        lambda_t = self.lambda_t if lambda_t is None else lambda_t\n",
    "        gamma_t = self.gamma_t if gamma_t is None else gamma_t\n",
    "\n",
    "        next_non_terminal = 1.0 - dones \n",
    "        next_values = last_values\n",
    "\n",
    "        r = np.concatenate([self.rewards, np.zeros((n, self.n_envs))])\n",
    "        v = np.concatenate([self.values, np.ones((n, self.n_envs)) * last_values])\n",
    "        ep_starts = np.concatenate([self.episode_starts, np.ones((n, self.n_envs)) * dones])\n",
    "        \n",
    "        for step in reversed(range(self.buffer_size)):\n",
    "            next_non_terminal = 1.0 - ep_starts[step + n]\n",
    "            next_values = v[step + n]\n",
    "            G = next_non_terminal * next_values\n",
    "            for t in reversed(range(step, step + n)):\n",
    "                non_terminal = 1.0 - ep_starts[t + 1]\n",
    "                G = r[t] + gamma_t * non_terminal * (lambda_t * G + (1 - lambda_t) * v[t + 1]) \n",
    "            self.Rn[step] = G \n",
    "        self.weights = np.abs(self.values - self.Rn) ** self.prioritized_alpha\n",
    "\n",
    "# Initialize\n",
    "test_class = TestClass()\n",
    "\n",
    "# Test the function\n",
    "last_values = np.array([21, 22])\n",
    "dones = np.array([0, 1])\n",
    "\n",
    "test_class.compute_Rn_and_weights(last_values, dones)\n",
    "\n",
    "# Output the computed Rn and weights\n",
    "print('starts', test_class.episode_starts)\n",
    "print('rewards:', test_class.rewards)\n",
    "print('values:', test_class.values)\n",
    "print(\"Computed Rn:\", test_class.Rn)\n",
    "print(\"Computed Weights:\", test_class.weights)\n"
   ]
  },
  {
   "cell_type": "code",
   "execution_count": null,
   "metadata": {},
   "outputs": [],
   "source": []
  },
  {
   "cell_type": "code",
   "execution_count": null,
   "metadata": {},
   "outputs": [],
   "source": [
    "sample_indices = indices[:, np.newaxis] + np.arange(k_steps)"
   ]
  },
  {
   "cell_type": "code",
   "execution_count": null,
   "metadata": {},
   "outputs": [],
   "source": [
    "anoarr = np.random.randn(batch_size, num_envs, 3)\n",
    "anoarr.shape"
   ]
  },
  {
   "cell_type": "code",
   "execution_count": null,
   "metadata": {},
   "outputs": [],
   "source": [
    "import random \n",
    "flat_starts[random.choices(sample_indices, weights=flat_weights[indices], k=3)]"
   ]
  },
  {
   "cell_type": "code",
   "execution_count": null,
   "metadata": {},
   "outputs": [],
   "source": [
    "import numpy as np\n",
    "\n",
    "def compute_n_step_bootstrapping(episode_starts, rewards, values, n, gamma=1, lambda_t=1.0):\n",
    "    buffer_size, n_envs = rewards.shape\n",
    "    \n",
    "    # Initialize n-step bootstrapped returns\n",
    "    n_step_returns = np.zeros_like(rewards)\n",
    "    \n",
    "    # Loop through each environment\n",
    "    for env in range(n_envs):\n",
    "        \n",
    "        # Extract data for this environment\n",
    "        ep_starts = episode_starts[:, env]\n",
    "        r = rewards[:, env]\n",
    "        v = values[:, env]\n",
    "        \n",
    "        # Initialize targets\n",
    "        targets = np.zeros(buffer_size)\n",
    "        \n",
    "        # Loop through each step in reverse order\n",
    "        for t in reversed(range(buffer_size - n + 1)):\n",
    "            \n",
    "            G = v[min(t + n, buffer_size - 1)]\n",
    "            \n",
    "            # Calculate n-step return\n",
    "            for step in reversed(range(t, t + n)):\n",
    "                if ep_starts[step]:\n",
    "                    G = 0  # Reset at the start of each episode\n",
    "                G = r[step] + gamma * G\n",
    "            \n",
    "            # Apply lambda\n",
    "            targets[t] = (1 - lambda_t) * v[t] + lambda_t * G\n",
    "        \n",
    "        # Store in the final returns matrix\n",
    "        n_step_returns[:, env] = targets\n",
    "    \n",
    "    return n_step_returns\n",
    "\n",
    "# Test the function\n",
    "episode_starts = np.array([\n",
    "    [1, 1],\n",
    "    [0, 0],\n",
    "    [1, 0],\n",
    "    [0, 0],\n",
    "    [0, 1]\n",
    "])\n",
    "\n",
    "rewards = np.array([\n",
    "    [1, 2],\n",
    "    [3, 4],\n",
    "    [5, 6],\n",
    "    [7, 8],\n",
    "    [9, 10]\n",
    "])\n",
    "\n",
    "values = np.array([\n",
    "    [11, 12],\n",
    "    [13, 14],\n",
    "    [15, 16],\n",
    "    [17, 18],\n",
    "    [19, 20]\n",
    "])\n",
    "\n",
    "print(compute_n_step_bootstrapping(episode_starts, rewards, values, n=2))\n"
   ]
  },
  {
   "cell_type": "code",
   "execution_count": null,
   "metadata": {},
   "outputs": [],
   "source": [
    "episode_starts"
   ]
  },
  {
   "cell_type": "code",
   "execution_count": null,
   "metadata": {},
   "outputs": [],
   "source": [
    "%%timeit \n",
    "candidates_indices = []\n",
    "candidates_weights = []\n",
    "for env in range(num_envs):\n",
    "    unique_boundaries, counts = np.unique(episode_boundaries[:, env], return_counts=True)\n",
    "    \n",
    "    # Skip 0 as it marks the start of the array\n",
    "    current_index = 0\n",
    "    \n",
    "    for ub, count in zip(unique_boundaries[1:], counts[1:]):\n",
    "        # Here you could also use your desired_length to filter out episodes that are too short\n",
    "        if count >= desired_length:\n",
    "            for start_idx in range(current_index, current_index + count - desired_length + 1):\n",
    "                end_idx = start_idx + desired_length\n",
    "                \n",
    "                # Calculate average weight for this segment\n",
    "                avg_weight = np.mean(weights[start_idx:end_idx, env])\n",
    "                \n",
    "                candidates_indices.append((start_idx, end_idx, env))\n",
    "                candidates_weights.append(avg_weight)\n",
    "        \n",
    "        current_index += count\n",
    "\n",
    "# Convert lists to arrays for easier manipulation\n",
    "candidates_indices = np.array(candidates_indices)\n",
    "candidates_weights = np.array(candidates_weights)"
   ]
  },
  {
   "cell_type": "code",
   "execution_count": null,
   "metadata": {},
   "outputs": [],
   "source": [
    "flat_starts_indices"
   ]
  },
  {
   "cell_type": "code",
   "execution_count": 1,
   "metadata": {},
   "outputs": [
    {
     "name": "stderr",
     "output_type": "stream",
     "text": [
      "2023-09-14 04:09:27.577895: W tensorflow/compiler/tf2tensorrt/utils/py_utils.cc:38] TF-TRT Warning: Could not find TensorRT\n"
     ]
    }
   ],
   "source": [
    "from muax.sb3.common.utils import obs_as_tensor"
   ]
  },
  {
   "cell_type": "code",
   "execution_count": 3,
   "metadata": {},
   "outputs": [
    {
     "data": {
      "text/plain": [
       "{'s': Array([[[1., 1., 1., 1.],\n",
       "         [1., 1., 1., 1.]],\n",
       " \n",
       "        [[1., 1., 1., 1.],\n",
       "         [1., 1., 1., 1.]],\n",
       " \n",
       "        [[1., 1., 1., 1.],\n",
       "         [1., 1., 1., 1.]]], dtype=float32)}"
      ]
     },
     "execution_count": 3,
     "metadata": {},
     "output_type": "execute_result"
    }
   ],
   "source": [
    "import jax \n",
    "import numpy as np \n",
    "\n",
    "a = {'s':np.ones((3,2,4))}\n",
    "jax.jit(obs_as_tensor, static_argnums=(2,))(a, is_dict_obs=type(a) == dict)"
   ]
  }
 ],
 "metadata": {
  "kernelspec": {
   "display_name": "rlor38",
   "language": "python",
   "name": "python3"
  },
  "language_info": {
   "codemirror_mode": {
    "name": "ipython",
    "version": 3
   },
   "file_extension": ".py",
   "mimetype": "text/x-python",
   "name": "python",
   "nbconvert_exporter": "python",
   "pygments_lexer": "ipython3",
   "version": "3.8.16"
  },
  "orig_nbformat": 4
 },
 "nbformat": 4,
 "nbformat_minor": 2
}
